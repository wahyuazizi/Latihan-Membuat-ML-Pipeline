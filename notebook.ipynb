{
 "cells": [
  {
   "cell_type": "markdown",
   "metadata": {},
   "source": [
    "# Latihan Membuat Machine Learning Pipeline"
   ]
  },
  {
   "cell_type": "code",
   "execution_count": null,
   "metadata": {},
   "outputs": [
    {
     "ename": "",
     "evalue": "",
     "output_type": "error",
     "traceback": [
      "\u001b[1;31mFailed to start the Kernel 'mlops-tfx (Python 3.9.15)'. \n",
      "\u001b[1;31mView Jupyter <a href='command:jupyter.viewOutput'>log</a> for further details. Unexpected end of JSON input"
     ]
    }
   ],
   "source": [
    "import tensorflow as tf\n",
    "from tfx.components import CsvExampleGen, StatisticsGen, SchemaGen, ExampleValidator, Transform, Trainer, Tuner\n",
    "from tfx.proto import example_gen_pb2\n",
    "from tfx.orchestration.experimental.interactive.interactive_context import InteractiveContext\n",
    "import os"
   ]
  },
  {
   "cell_type": "markdown",
   "metadata": {},
   "source": [
    "## Set Variable"
   ]
  },
  {
   "cell_type": "code",
   "execution_count": null,
   "metadata": {},
   "outputs": [],
   "source": [
    "PIPELINE_NAME = \"sarcasm-pipeline\"\n",
    "SCHEMA_PIPELINE_NAME = \"sarcasm-tfdv-schema\"\n",
    "\n",
    "#Directory untuk menyimpan artifact yang akan dihasilkan\n",
    "PIPELINE_ROOT = os.path.join('pipelines', PIPELINE_NAME)\n",
    "\n",
    "# Path to a SQLite DB file to use as an MLMD storage.\n",
    "METADATA_PATH = os.path.join('metadata', PIPELINE_NAME, 'metadata.db')\n",
    "\n",
    "# Output directory where created models from the pipeline will be exported.\n",
    "SERVING_MODEL_DIR = os.path.join('serving_model', PIPELINE_NAME)\n",
    "\n",
    "# from absl import logging\n",
    "# logging.set_verbosity(logging.INFO)"
   ]
  },
  {
   "cell_type": "code",
   "execution_count": null,
   "metadata": {},
   "outputs": [],
   "source": [
    "DATA_ROOT = \"data\""
   ]
  },
  {
   "cell_type": "code",
   "execution_count": null,
   "metadata": {},
   "outputs": [],
   "source": [
    "interactive_context = InteractiveContext(pipeline_root=PIPELINE_ROOT)"
   ]
  },
  {
   "cell_type": "markdown",
   "metadata": {},
   "source": [
    "## Data Ingestion"
   ]
  },
  {
   "cell_type": "code",
   "execution_count": null,
   "metadata": {},
   "outputs": [],
   "source": [
    "output = example_gen_pb2.Output(\n",
    "    split_config = example_gen_pb2.SplitConfig(splits=[\n",
    "        example_gen_pb2.SplitConfig.Split(name='train', hash_buckets=8),\n",
    "        example_gen_pb2.SplitConfig.Split(name='eval', hash_buckets=2),\n",
    "    ])\n",
    ")\n",
    "\n",
    "example_gen = CsvExampleGen(input_base=DATA_ROOT, output_config=output)"
   ]
  },
  {
   "cell_type": "code",
   "execution_count": null,
   "metadata": {},
   "outputs": [],
   "source": [
    "interactive_context.run(example_gen)"
   ]
  },
  {
   "cell_type": "markdown",
   "metadata": {},
   "source": [
    "## Membuat Tahapan Data Validation"
   ]
  },
  {
   "cell_type": "markdown",
   "metadata": {},
   "source": [
    "### 1. Membuat Summary Statistic"
   ]
  },
  {
   "cell_type": "code",
   "execution_count": null,
   "metadata": {},
   "outputs": [],
   "source": [
    "statistics_gen = StatisticsGen(\n",
    "    examples = example_gen.outputs[\"examples\"]\n",
    ")\n",
    "\n",
    "interactive_context.run(statistics_gen)"
   ]
  },
  {
   "cell_type": "markdown",
   "metadata": {},
   "source": [
    "menggunakan interactive_context.show() untuk menampilkan summary statistic yang telah dibuat."
   ]
  },
  {
   "cell_type": "code",
   "execution_count": null,
   "metadata": {},
   "outputs": [],
   "source": [
    "interactive_context.show(statistics_gen.outputs[\"statistics\"])"
   ]
  },
  {
   "cell_type": "markdown",
   "metadata": {},
   "source": [
    "### 2. Membuat Data Schema"
   ]
  },
  {
   "cell_type": "code",
   "execution_count": null,
   "metadata": {},
   "outputs": [],
   "source": [
    "schema_gen = SchemaGen(\n",
    "    statistics = statistics_gen.outputs[\"statistics\"]\n",
    ")\n",
    "interactive_context.run(schema_gen)"
   ]
  },
  {
   "cell_type": "code",
   "execution_count": null,
   "metadata": {},
   "outputs": [],
   "source": [
    "interactive_context.show(schema_gen.outputs[\"schema\"])"
   ]
  },
  {
   "cell_type": "markdown",
   "metadata": {},
   "source": [
    "### 3. Mengidentifikasi anomali pada dataset"
   ]
  },
  {
   "cell_type": "code",
   "execution_count": null,
   "metadata": {},
   "outputs": [],
   "source": [
    "example_validator = ExampleValidator(\n",
    "    statistics = statistics_gen.outputs[\"statistics\"],\n",
    "    schema = schema_gen.outputs[\"schema\"]\n",
    ")\n",
    "interactive_context.run(example_validator)"
   ]
  },
  {
   "cell_type": "code",
   "execution_count": null,
   "metadata": {},
   "outputs": [],
   "source": [
    "interactive_context.show(example_validator.outputs[\"anomalies\"])"
   ]
  },
  {
   "cell_type": "markdown",
   "metadata": {},
   "source": [
    "## Membuat Tahapan Data Preprocessing"
   ]
  },
  {
   "cell_type": "code",
   "execution_count": null,
   "metadata": {},
   "outputs": [],
   "source": [
    "TRANSFORM_MODULE_FILE = \"sarcasm_transform.py\""
   ]
  },
  {
   "cell_type": "code",
   "execution_count": null,
   "metadata": {},
   "outputs": [],
   "source": [
    "%%writefile {TRANSFORM_MODULE_FILE}\n",
    "\n",
    "import tensorflow as tf\n",
    "\n",
    "LABEL_KEY = 'is_sarcastic'\n",
    "FEATURE_KEY = 'headline'\n",
    "\n",
    "def transformed_name(key):\n",
    "    '''renaming transformed name feature'''\n",
    "    return key + '_xf'\n",
    "\n",
    "def preprocessing_fn(inputs):\n",
    "    \"\"\"\n",
    "    Preprocess input features into transformed features\n",
    "    \n",
    "    Args:\n",
    "        inputs: map from feature keys to raw features.\n",
    "    \n",
    "    Return:\n",
    "        outputs: map from feature keys to transformed features.    \n",
    "    \"\"\"\n",
    "    outputs = {}\n",
    "    outputs[transformed_name(FEATURE_KEY)] = tf.strings.lower(inputs[FEATURE_KEY])\n",
    "    outputs[transformed_name(LABEL_KEY)] = tf.cast(inputs[LABEL_KEY], tf.int64)\n",
    "    return outputs"
   ]
  },
  {
   "cell_type": "code",
   "execution_count": null,
   "metadata": {},
   "outputs": [],
   "source": [
    "transform = Transform(\n",
    "    examples = example_gen.outputs[\"examples\"],\n",
    "    schema = schema_gen.outputs[\"schema\"],\n",
    "    module_file = os.path.abspath(TRANSFORM_MODULE_FILE)\n",
    ")\n",
    "interactive_context.run(transform)"
   ]
  },
  {
   "cell_type": "markdown",
   "metadata": {},
   "source": [
    "## Membuat Tahapan Pengembangan Model"
   ]
  },
  {
   "cell_type": "code",
   "execution_count": null,
   "metadata": {},
   "outputs": [],
   "source": [
    "TRAINER_MODULE_FILE = \"sarcasm_trainer.py\""
   ]
  },
  {
   "cell_type": "code",
   "execution_count": null,
   "metadata": {},
   "outputs": [],
   "source": [
    "%%writefile {TRAINER_MODULE_FILE}\n",
    "\n",
    "import tensorflow as tf\n",
    "import tensorflow_transform as tft\n",
    "from tensorflow.keras import layers\n",
    "import os\n",
    "import tensorflow_hub as hub\n",
    "from tfx.components.trainer.fn_args_utils import FnArgs\n",
    "\n",
    "LABEL_KEY = \"is_sarcastic\"\n",
    "FEATURE_KEY = \"headline\"\n",
    "\n",
    "def transformed_name(key):\n",
    "    \"\"\"Renaming transformed features\"\"\"\n",
    "    return key + \"_xf\"\n",
    "\n",
    "def gzip_reader_fn(filenames):\n",
    "    \"\"\"Loads compressed data\"\"\"\n",
    "    return tf.data.TFRecordDataset(filenames, compression_type='GZIP')\n",
    "\n",
    "def input_fn(file_pattern, tf_transform_output, num_epochs, batch_size=64)->tf.data.Dataset:\n",
    "    \"\"\"Get post_transform feature & create batches of data\"\"\"\n",
    "\n",
    "    # Get post_transform feature spec\n",
    "    transform_feature_spec = (\n",
    "        tf_transform_output.transformed_feature_spec().copy()\n",
    "    )\n",
    "\n",
    "    # Create batches of data\n",
    "    dataset = tf.data.experimental.make_batched_features_dataset(\n",
    "        file_pattern= file_pattern,\n",
    "        batch_size  = batch_size,\n",
    "        features    = transform_feature_spec,\n",
    "        reader      = gzip_reader_fn,\n",
    "        num_epochs  = num_epochs,\n",
    "        label_key   = transformed_name(LABEL_KEY)\n",
    "    ).repeat()\n",
    "\n",
    "    return dataset\n",
    "\n",
    "VOCAB_SIZE = 10000\n",
    "SEQUENCE_LENGTH = 100\n",
    "\n",
    "vectorize_layer = layers.TextVectorization(\n",
    "    standardize = \"lower_and_strip_punctuation\",\n",
    "    max_tokens  = VOCAB_SIZE,\n",
    "    output_mode = 'int',\n",
    "    output_sequence_length = SEQUENCE_LENGTH\n",
    ")\n",
    "\n",
    "embedding_dim = 16\n",
    "def model_builder():\n",
    "    \"\"\"Build machine learning model\"\"\"\n",
    "    inputs = tf.keras.Input(shape=(1,), name=transformed_name(FEATURE_KEY), dtype=tf.string)\n",
    "    reshaped_narrative = tf.reshape(inputs, [-1])\n",
    "    x = vectorize_layer(reshaped_narrative)\n",
    "    x = layers.Embedding(VOCAB_SIZE, embedding_dim, name=\"embedding\")(x)\n",
    "    x = layers.GlobalAveragePooling1D()(x)\n",
    "    x = layers.Dense(64, activation='relu')(x)\n",
    "    x = layers.Dense(32, activation='relu')(x)\n",
    "    outputs = layers.Dense(1, activation='sigmoid')(x)\n",
    "\n",
    "    model = tf.keras.Model(inputs = inputs, outputs = outputs)\n",
    "\n",
    "    model.compile(\n",
    "        loss = 'binary_crossentropy',\n",
    "        optimizer = tf.keras.optimizers.Adam(0.01),\n",
    "        metrics = [tf.keras.metrics.BinaryAccuracy()]\n",
    "    )\n",
    "\n",
    "    # print(model)\n",
    "    model.summary()\n",
    "    return model\n",
    "\n",
    "def _get_serve_tf_examples_fn(model, tf_transform_output):\n",
    "    model.tft_layer = tf_transform_output.transform_features_layer()\n",
    "\n",
    "    @tf.function\n",
    "    def serve_tf_examples_fn(serialized_tf_examples):\n",
    "        feature_spec = tf_transform_output.raw_feature_spec()\n",
    "\n",
    "        feature_spec.pop(LABEL_KEY)\n",
    "\n",
    "        parsed_features = tf.io.parse_example(serialized_tf_examples, feature_spec)\n",
    "        transformed_features = model.tft_layer(parsed_features)\n",
    "\n",
    "        # Get predictions using the transformed features\n",
    "        return model(transformed_features)\n",
    "    return serve_tf_examples_fn\n",
    "\n",
    "def run_fn(fn_args: FnArgs) -> None:\n",
    "    log_dir = os.path.join(os.path.dirname(fn_args.serving_model_dir), 'logs')\n",
    "\n",
    "    tensorboard_callback = tf.keras.callbacks.TensorBoard(\n",
    "        log_dir = log_dir, update_freq='batch'\n",
    "    )\n",
    "\n",
    "    es = tf.keras.callbacks.EarlyStopping(monitor='val_binary_accuracy', mode='max', verbose=1, patience=10)\n",
    "    mc = tf.keras.callbacks.ModelCheckpoint(fn_args.serving_model_dir, monitor='val_binary_accuracy', mode='max', verbose=1, save_best_only=True)\n",
    "\n",
    "    # Load the trasnform output\n",
    "    tf_transform_output = tft.TFTransformOutput(fn_args.transform_graph_path)\n",
    "\n",
    "    # Create batches of data\n",
    "    train_set = input_fn(fn_args.train_files, tf_transform_output, 10)\n",
    "    val_set = input_fn(fn_args.eval_files, tf_transform_output, 10)\n",
    "    vectorize_layer.adapt(\n",
    "        [j[0].numpy()[0] for j in [\n",
    "            i[0][transformed_name(FEATURE_KEY)]\n",
    "                for i in list(train_set)\n",
    "        ]]\n",
    "    )\n",
    "\n",
    "    # Build the model\n",
    "    model = model_builder()\n",
    "\n",
    "    # Train the model\n",
    "    model.fit(\n",
    "        x = train_set,\n",
    "        validation_data = val_set,\n",
    "        callbacks = [tensorboard_callback, es, mc],\n",
    "        steps_per_epoch = 1000,\n",
    "        validation_steps = 1000,\n",
    "        epochs = 10\n",
    "    )\n",
    "\n",
    "    signatures = {\n",
    "        'serving_default':\n",
    "        _get_serve_tf_examples_fn(\n",
    "            model, tf_transform_output\n",
    "        ).get_concrete_function(\n",
    "            tf.TensorSpec(\n",
    "                shape=[None],\n",
    "                dtype=tf.string,\n",
    "                name='examples'\n",
    "            )\n",
    "        )\n",
    "    }\n",
    "    model.save(fn_args.serving_model_dir, save_format='tf', signatures=signatures)"
   ]
  },
  {
   "cell_type": "code",
   "execution_count": null,
   "metadata": {},
   "outputs": [],
   "source": [
    "# MEndefinisikan komponen Trainer\n",
    "from tfx.proto import trainer_pb2\n",
    "\n",
    "trainer = Trainer(\n",
    "    module_file = os.path.abspath(TRAINER_MODULE_FILE),\n",
    "    examples = transform.outputs['transformed_examples'],\n",
    "    transform_graph = transform.outputs['transform_graph'],\n",
    "    schema = schema_gen.outputs['schema'],\n",
    "    train_args = trainer_pb2.TrainArgs(splits=['train']),\n",
    "    eval_args = trainer_pb2.EvalArgs(splits=['eval'])\n",
    ")\n",
    "interactive_context.run(trainer)"
   ]
  },
  {
   "cell_type": "markdown",
   "metadata": {},
   "source": [
    "## Membuat Tahapan Analisis dan Validasi Model"
   ]
  },
  {
   "cell_type": "markdown",
   "metadata": {},
   "source": [
    "### 1. Komponen Resolver"
   ]
  },
  {
   "cell_type": "code",
   "execution_count": null,
   "metadata": {},
   "outputs": [],
   "source": [
    "from tfx.dsl.components.common.resolver import Resolver\n",
    "from tfx.dsl.input_resolution.strategis.latest_blessed_model_strategy import LatestBlessedModelStrategy\n",
    "from tfx.types import Channel\n",
    "from tfx.types.standard_artifacts import Model, ModelBlessing\n",
    "\n",
    "model_resolver = Resolver(\n",
    "    strategy_class = LatestBlessedModelStrategy,\n",
    "    model = Channel(type=Model)\n",
    "    model_blessing = Channel(type=ModelBlessing)\n",
    ").with_id('Latest_blessed_model_resolver')\n",
    "\n",
    "interactive_context.run(model_resolver)"
   ]
  },
  {
   "cell_type": "markdown",
   "metadata": {},
   "source": [
    "### 2. Komponen Evaluator"
   ]
  },
  {
   "cell_type": "code",
   "execution_count": null,
   "metadata": {},
   "outputs": [],
   "source": [
    "import tensorflow_model_analysis as tfma\n",
    "\n",
    "eval_config = tfma.EvalConfig(\n",
    "    model_specs = [tfma.ModelSpec(label_key='is_sarcastic')],\n",
    "    slicing_specs = [tfma.SlicingSpec()],\n",
    "    metrics_specs=[\n",
    "        tfma.MetricsSpec(metrics=[\n",
    "            tfma.MetricConfig(class_name='ExampleCount'),\n",
    "            tfma.MetricConfig(class_name='AUC'),\n",
    "            tfma.MetricConfig(class_name='FalsePositive'),\n",
    "            tfma.MetricConfig(class_name='TruePositive'),\n",
    "            tfma.MetricConfig(class_name='FalseNegatives'),\n",
    "            tfma.MetricConfig(class_name='TrueNegatives'),\n",
    "            tfma.MetricConfig(class_name='BinaryAccuracy'),\n",
    "            threshold= tfma.MetricThreshold(\n",
    "                value_threshold = tfma.GenericValueThreshold(\n",
    "                    lower_bound = {'value':0.5}\n",
    "                ),\n",
    "                change_threshold = tfma.GenericChangeThreshold(\n",
    "                    direction = tfma.MetricDirection.HIGHER_IS_BETTER,\n",
    "                    absolute = {'value':0.0001}\n",
    "                )\n",
    "            )\n",
    "        ])\n",
    "    ]\n",
    ")"
   ]
  },
  {
   "cell_type": "code",
   "execution_count": null,
   "metadata": {},
   "outputs": [],
   "source": [
    "# Mendefinisikan Komponen Evaluator\n",
    "from tfx.components import Evaluator\n",
    "\n",
    "evaluator = Evaluator(\n",
    "    examples = example_gen.outputs['examples'],\n",
    "    model = trainer.outputs['model'],\n",
    "    baseline_model = model_resolver.outputs['model'],\n",
    "    eval_config = eval_config\n",
    ")\n",
    "\n",
    "interactive_context.run(evaluator)"
   ]
  },
  {
   "cell_type": "code",
   "execution_count": null,
   "metadata": {},
   "outputs": [],
   "source": [
    "# Visualize the evaluation results\n",
    "\n",
    "eval_result = evaluator.outputs['evaluation'].get()[0].uri\n",
    "tfma_result = tfma.load_eval_result(eval_result)\n",
    "tfma.view.render_slicing_metrics(tfma_result)\n",
    "tfma.addons.fairnerss.view.widget_view.render_fairness_indicator(\n",
    "    tfma_result\n",
    ")"
   ]
  }
 ],
 "metadata": {
  "kernelspec": {
   "display_name": "mlops-tfx",
   "language": "python",
   "name": "python3"
  },
  "language_info": {
   "codemirror_mode": {
    "name": "ipython",
    "version": 3
   },
   "file_extension": ".py",
   "mimetype": "text/x-python",
   "name": "python",
   "nbconvert_exporter": "python",
   "pygments_lexer": "ipython3",
   "version": "3.9.15"
  },
  "orig_nbformat": 4
 },
 "nbformat": 4,
 "nbformat_minor": 2
}
